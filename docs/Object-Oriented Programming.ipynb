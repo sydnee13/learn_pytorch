{
 "cells": [
  {
   "cell_type": "markdown",
   "id": "dab007c9-b54d-4062-8eb7-e5e1d3389f43",
   "metadata": {},
   "source": [
    "OOP models real-world entities as software objects that have some data associated with them and can perform certain operations. <br>\n",
    "1. **Encapsulation** allows you to bundle data (attributes) and behaviors (methods) within a class to create a cohesive unit.\n",
    "2. **Inheritance** enables the creation of hierarchical relationships between classes. This promotes code reuse and reduces duplication.\n",
    "3. **Abstraction** focuses on hiding implementation details and exposing only the essential functionality of an object. \n",
    "4. **Polymorphism** allows you to treat objects of different types as instances of the same base type, as long as they implement a common interface or behavior. <br><br>\n",
    "\n",
    "Classes define functions called methods, which identify the behaviors and actions that an object created from the class can perform with its data. An instance is an object that's built from a class and contains real data. <br><br>\n",
    ".\\__init__() sets the initial stat of the object by assigning the values of the object's properties. It initializes each new instance of the class."
   ]
  },
  {
   "cell_type": "code",
   "execution_count": 1,
   "id": "e1d0bc35-0315-40ae-b557-d84d5f715647",
   "metadata": {
    "tags": []
   },
   "outputs": [],
   "source": [
    "# defining a class\n",
    "class Dog:\n",
    "    species = \"Canis familiaris\" # class attribute: has the same value for all class instances\n",
    "    def __init__(self, name, age):\n",
    "        self.name = name # creates an instance attribute called name and assigns the value of the name parameter to it\n",
    "        self.age = age # creates an instance attribute called age and assigns the value of the age parameter to it"
   ]
  },
  {
   "cell_type": "code",
   "execution_count": 2,
   "id": "04a22a77-d4e7-46cc-a729-34b61700ff83",
   "metadata": {
    "tags": []
   },
   "outputs": [],
   "source": [
    "miles = Dog(\"Miles\", 4)\n",
    "buddy = Dog(\"Buddy\", 9)"
   ]
  },
  {
   "cell_type": "code",
   "execution_count": 3,
   "id": "2d57a095-63e1-4bb1-bfa9-17d0a5093a0c",
   "metadata": {
    "tags": []
   },
   "outputs": [
    {
     "name": "stdout",
     "output_type": "stream",
     "text": [
      "Miles\n",
      "9\n"
     ]
    }
   ],
   "source": [
    "print(miles.name)\n",
    "print(buddy.age)"
   ]
  },
  {
   "cell_type": "markdown",
   "id": "81e47ad1-a41b-4977-9ec7-8fd572dda934",
   "metadata": {},
   "source": [
    "An object is mutable if you can alter it dynamically."
   ]
  },
  {
   "cell_type": "code",
   "execution_count": 4,
   "id": "5a859f66-d7e5-4bbc-9da3-e3a44396c9b9",
   "metadata": {
    "tags": []
   },
   "outputs": [
    {
     "data": {
      "text/plain": [
       "'Felis silverstris'"
      ]
     },
     "execution_count": 4,
     "metadata": {},
     "output_type": "execute_result"
    }
   ],
   "source": [
    "miles.species = \"Felis silverstris\"\n",
    "miles.species"
   ]
  },
  {
   "cell_type": "code",
   "execution_count": 10,
   "id": "9754caf7-e23f-4fa7-9424-faef38ec1da6",
   "metadata": {
    "tags": []
   },
   "outputs": [],
   "source": [
    "class Dog:\n",
    "    species = \"Canis familiaris\"\n",
    "    def __init__(self, name, age):\n",
    "        self.name = name\n",
    "        self.age = age\n",
    "    # Instance method\n",
    "    def __str__(self): # dunder method that allows you to print a string\n",
    "        return f\"{self.name} is {self.age} years old\"\n",
    "    # Another instance method\n",
    "    def speak(self, sound):\n",
    "        return f\"{self.name} says {sound}\""
   ]
  },
  {
   "cell_type": "code",
   "execution_count": 11,
   "id": "731e0245-004e-44ae-af29-0561bd406e61",
   "metadata": {
    "tags": []
   },
   "outputs": [
    {
     "name": "stdout",
     "output_type": "stream",
     "text": [
      "Miles is 4 years old\n",
      "Miles says Woof Woof\n"
     ]
    }
   ],
   "source": [
    "miles = Dog(\"Miles\", 4)\n",
    "print(miles)\n",
    "print(miles.speak(\"Woof Woof\"))"
   ]
  },
  {
   "cell_type": "code",
   "execution_count": 13,
   "id": "a4e034e9-ff30-488a-9f84-41c2caefaf37",
   "metadata": {
    "tags": []
   },
   "outputs": [
    {
     "name": "stdout",
     "output_type": "stream",
     "text": [
      "The blue car has 20,000 miles\n",
      "The red car has 30,000 miles\n"
     ]
    }
   ],
   "source": [
    "class Car:\n",
    "    def __init__(self, color, mileage):\n",
    "        self.color = color\n",
    "        self.mileage = mileage\n",
    "    def __str__(self):\n",
    "        return f\"The {self.color} car has {self.mileage:,} miles\"\n",
    "car1 = Car(\"blue\", 20000)\n",
    "car2 = Car(\"red\", 30000)\n",
    "print(car1)\n",
    "print(car2)"
   ]
  },
  {
   "cell_type": "code",
   "execution_count": 31,
   "id": "61ec7248-cc9d-4844-8848-355695160f20",
   "metadata": {
    "tags": []
   },
   "outputs": [],
   "source": [
    "# inheritance\n",
    "\n",
    "class Dog:\n",
    "    species = \"Canis familiaris\"\n",
    "    \n",
    "    def __init__(self, name, age):\n",
    "        self.name = name\n",
    "        self.age = age\n",
    "\n",
    "    def __str__(self): \n",
    "        return f\"{self.name} is {self.age} years old\"\n",
    "\n",
    "    def speak(self, sound):\n",
    "        return f\"{self.name} barks: {sound}\"\n",
    "    \n",
    "class JackRussellTerrier(Dog):\n",
    "    def speak(self, sound=\"Arf\"):\n",
    "        # return f\"{self.name} says {sound}\"\n",
    "        return super().speak(sound) # super() accesses parent class from inside method of child class\n",
    "\n",
    "class Dachshund(Dog):\n",
    "    pass\n",
    "\n",
    "class Bulldog(Dog):\n",
    "    pass"
   ]
  },
  {
   "cell_type": "code",
   "execution_count": 30,
   "id": "fe3bcd42-e0a0-45ff-9dad-e5b180ffd03a",
   "metadata": {
    "tags": []
   },
   "outputs": [
    {
     "name": "stdout",
     "output_type": "stream",
     "text": [
      "Jack is 3 years old\n",
      "Miles barks: Arf\n",
      "Miles barks: Grrr\n",
      "<class '__main__.JackRussellTerrier'>\n",
      "True\n",
      "False\n",
      "Jim barks: Woof\n"
     ]
    }
   ],
   "source": [
    "miles = JackRussellTerrier(\"Miles\", 4)\n",
    "buddy = Dachshund(\"Buddy\", 9)\n",
    "jack = Bulldog(\"Jack\", 3)\n",
    "jim = Bulldog(\"Jim\", 5)\n",
    "\n",
    "print(jack)\n",
    "print(miles.speak())\n",
    "print(miles.speak(\"Grrr\"))\n",
    "print(type(miles))\n",
    "print(isinstance(miles, Dog)) # is miles also an instance of Dog?\n",
    "print(isinstance(miles, Bulldog)) # is miles a Bulldog?\n",
    "print(jim.speak(\"Woof\"))"
   ]
  },
  {
   "cell_type": "code",
   "execution_count": 32,
   "id": "ba02b55a-ba79-45d8-8ff0-09f8aa4a2f44",
   "metadata": {
    "tags": []
   },
   "outputs": [],
   "source": [
    "class Dog:\n",
    "    species = \"Canis familiaris\"\n",
    "    \n",
    "    def __init__(self, name, age):\n",
    "        self.name = name\n",
    "        self.age = age\n",
    "\n",
    "    def __str__(self): \n",
    "        return f\"{self.name} is {self.age} years old\"\n",
    "\n",
    "    def speak(self, sound):\n",
    "        return f\"{self.name} barks: {sound}\"\n",
    "    \n",
    "class GoldenRetriever(Dog):\n",
    "    def speak(self, sound=\"Bark\"):\n",
    "        return super().speak(sound)"
   ]
  },
  {
   "cell_type": "code",
   "execution_count": null,
   "id": "12cb24a8-79fb-4ff2-9230-954362581809",
   "metadata": {},
   "outputs": [],
   "source": []
  }
 ],
 "metadata": {
  "kernelspec": {
   "display_name": "Data Science",
   "language": "python",
   "name": "data_science"
  },
  "language_info": {
   "codemirror_mode": {
    "name": "ipython",
    "version": 3
   },
   "file_extension": ".py",
   "mimetype": "text/x-python",
   "name": "python",
   "nbconvert_exporter": "python",
   "pygments_lexer": "ipython3",
   "version": "3.11.5"
  }
 },
 "nbformat": 4,
 "nbformat_minor": 5
}
